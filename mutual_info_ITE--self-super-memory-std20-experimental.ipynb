{
 "cells": [
  {
   "cell_type": "code",
   "execution_count": 1,
   "metadata": {},
   "outputs": [],
   "source": [
    "import sys\n",
    "sys.path.insert(1,'/home/niloofar/ite-repo')\n",
    "import ite\n",
    "import entropy_estimators as ee\n",
    "from feature_selector import FeatureSelector\n",
    "import pandas as pd"
   ]
  },
  {
   "cell_type": "code",
   "execution_count": 2,
   "metadata": {},
   "outputs": [],
   "source": [
    "import torch\n",
    "import torch.nn as nn\n",
    "import torch.nn.functional as F\n",
    "from lenet import LeNet5\n",
    "from torchvision.datasets.mnist import MNIST\n",
    "import torchvision.transforms as transforms\n",
    "from torch.utils.data import DataLoader\n",
    "import torch.optim as optim\n",
    "#from tqdm import tqdm, trange\n",
    "import math\n",
    "import csv\n",
    "import numpy as np\n",
    "import itertools\n",
    "import matplotlib.pyplot as plt"
   ]
  },
  {
   "cell_type": "markdown",
   "metadata": {},
   "source": [
    "# Load Data form numpy"
   ]
  },
  {
   "cell_type": "code",
   "execution_count": 3,
   "metadata": {},
   "outputs": [
    {
     "name": "stdout",
     "output_type": "stream",
     "text": [
      "(10001, 1024)\n",
      "(10001, 1)\n"
     ]
    }
   ],
   "source": [
    "image_original=np.load(\"original-image-mutual_info-self-memory-uniform-std20-ep27.npy\")\n",
    "print(image_original.shape)\n",
    "labels = np.load(\"original-labels-mutual_info-self-memory-uniform-std20-ep27.npy\")\n",
    "print(labels.shape)"
   ]
  },
  {
   "cell_type": "code",
   "execution_count": 4,
   "metadata": {},
   "outputs": [
    {
     "name": "stdout",
     "output_type": "stream",
     "text": [
      "(10001, 120, 1, 1)\n",
      "(10001, 120, 1, 1)\n"
     ]
    }
   ],
   "source": [
    "activation_noise = np.load(\"noisy-activation-mutual_info-self-memory-uniform-std20-ep27.npy\")\n",
    "print(activation_noise.shape)\n",
    "#activation_noise.fill(0)\n",
    "#np.expand_dims( model_syn.intermed.noise.detach().numpy(),axis=0)\n",
    "activation_original = np.load(\"original-activation-mutual_info-self-memory-uniform-std20-ep27.npy\")\n",
    "#np.expand_dims( model_syn.intermed.noise.detach().numpy(),axis=0)\n",
    "print(activation_original.shape)"
   ]
  },
  {
   "cell_type": "markdown",
   "metadata": {},
   "source": [
    "\n",
    "\n",
    "# Reshape data"
   ]
  },
  {
   "cell_type": "code",
   "execution_count": 5,
   "metadata": {},
   "outputs": [],
   "source": [
    "reshaped_noise = np.squeeze(activation_noise)\n",
    "reshaped_original = np.squeeze(activation_original)"
   ]
  },
  {
   "cell_type": "code",
   "execution_count": 6,
   "metadata": {},
   "outputs": [
    {
     "name": "stdout",
     "output_type": "stream",
     "text": [
      "(10001, 120)\n",
      "(10001, 120)\n",
      "(10001, 1024)\n",
      "[[  6.433695  -12.262849   -3.5398765 ... -11.600582  -11.555367\n",
      "   35.13724  ]\n",
      " [ -9.92847    -4.9754367   3.5427642 ... -13.64309    50.723087\n",
      "    0.6981919]\n",
      " [-30.16174   -20.462164  -81.66851   ...   4.896743   13.732738\n",
      "   43.403515 ]\n",
      " ...\n",
      " [-27.78991    20.904785   -1.8313422 ...  41.828552    1.408524\n",
      "   78.03063  ]\n",
      " [ 16.022211    9.970645   -5.5018353 ...  47.785717  -17.831524\n",
      "   -2.27614  ]\n",
      " [ -2.5051975  -8.662452    7.0896254 ...  -3.5136907 -45.584553\n",
      "  -12.091572 ]]\n"
     ]
    }
   ],
   "source": [
    "reshaped_noise =np.reshape(activation_noise, (activation_noise.shape[0],-1))\n",
    "reshaped_original = np.reshape(activation_original, (activation_noise.shape[0],-1))\n",
    "print(reshaped_original.shape)\n",
    "print(reshaped_noise.shape)\n",
    "print(image_original.shape)\n",
    "print(reshaped_noise)"
   ]
  },
  {
   "cell_type": "markdown",
   "metadata": {},
   "source": [
    "# mutual info"
   ]
  },
  {
   "cell_type": "code",
   "execution_count": 7,
   "metadata": {},
   "outputs": [],
   "source": [
    "co = ite.cost.MIShannon_DKL()"
   ]
  },
  {
   "cell_type": "markdown",
   "metadata": {},
   "source": [
    "# original"
   ]
  },
  {
   "cell_type": "code",
   "execution_count": 8,
   "metadata": {},
   "outputs": [
    {
     "name": "stdout",
     "output_type": "stream",
     "text": [
      "(10001, 1144)\n",
      "284.1413525307556\n"
     ]
    }
   ],
   "source": [
    "ds = np.array([1024, 120])\n",
    "y = np.concatenate((image_original, reshaped_original),axis=1)\n",
    "print(y.shape)\n",
    "i = co.estimation(y, ds) \n",
    "print(i)"
   ]
  },
  {
   "cell_type": "markdown",
   "metadata": {},
   "source": [
    "# Noisy"
   ]
  },
  {
   "cell_type": "code",
   "execution_count": 9,
   "metadata": {},
   "outputs": [
    {
     "name": "stdout",
     "output_type": "stream",
     "text": [
      "106.921804943506\n"
     ]
    }
   ],
   "source": [
    "ds = np.array([1024, 120])\n",
    "y=  np.concatenate((image_original, reshaped_noise),axis=1)\n",
    "i = co.estimation(y, ds) \n",
    "print(i) #66"
   ]
  }
 ],
 "metadata": {
  "kernelspec": {
   "display_name": "Python 3",
   "language": "python",
   "name": "python3"
  },
  "language_info": {
   "codemirror_mode": {
    "name": "ipython",
    "version": 3
   },
   "file_extension": ".py",
   "mimetype": "text/x-python",
   "name": "python",
   "nbconvert_exporter": "python",
   "pygments_lexer": "ipython3",
   "version": "3.5.2"
  }
 },
 "nbformat": 4,
 "nbformat_minor": 2
}
