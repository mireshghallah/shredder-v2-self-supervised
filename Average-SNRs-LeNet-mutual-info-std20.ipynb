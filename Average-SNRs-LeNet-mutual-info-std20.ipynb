{
 "cells": [
  {
   "cell_type": "code",
   "execution_count": 78,
   "metadata": {},
   "outputs": [],
   "source": [
    "import csv"
   ]
  },
  {
   "cell_type": "code",
   "execution_count": 79,
   "metadata": {},
   "outputs": [],
   "source": [
    "SNRs=[]\n",
    "accuracies=[]\n",
    "accuracies_adv = []"
   ]
  },
  {
   "cell_type": "code",
   "execution_count": 80,
   "metadata": {},
   "outputs": [],
   "source": [
    "with open('mutual_info-self-memory-uniform-std20-ep27.csv', newline='') as f:\n",
    "    reader = csv.reader(f)\n",
    "    for row in reader:\n",
    "        SNRs.append(float(row[0]))\n",
    "        accuracies.append(float(row[1]))\n",
    "        accuracies_adv.append(float(row[2]))"
   ]
  },
  {
   "cell_type": "code",
   "execution_count": 81,
   "metadata": {},
   "outputs": [
    {
     "name": "stdout",
     "output_type": "stream",
     "text": [
      "0.00026235450834137736\n",
      "0.9386756800000012\n",
      "0.14052167000000051\n"
     ]
    }
   ],
   "source": [
    "print(sum(SNRs)/len(SNRs))\n",
    "print(sum(accuracies)/len(accuracies))\n",
    "print(sum(accuracies_adv)/len(accuracies_adv))"
   ]
  },
  {
   "cell_type": "code",
   "execution_count": 82,
   "metadata": {},
   "outputs": [
    {
     "name": "stdout",
     "output_type": "stream",
     "text": [
      "0.00026235450834137736\n"
     ]
    }
   ],
   "source": [
    "print(sum(SNRs)/len(SNRs))"
   ]
  },
  {
   "cell_type": "code",
   "execution_count": null,
   "metadata": {},
   "outputs": [],
   "source": []
  }
 ],
 "metadata": {
  "kernelspec": {
   "display_name": "Python 3",
   "language": "python",
   "name": "python3"
  },
  "language_info": {
   "codemirror_mode": {
    "name": "ipython",
    "version": 3
   },
   "file_extension": ".py",
   "mimetype": "text/x-python",
   "name": "python",
   "nbconvert_exporter": "python",
   "pygments_lexer": "ipython3",
   "version": "3.5.2"
  }
 },
 "nbformat": 4,
 "nbformat_minor": 2
}
